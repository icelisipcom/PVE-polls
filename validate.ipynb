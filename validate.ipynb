{
 "cells": [
  {
   "cell_type": "code",
   "execution_count": 1,
   "metadata": {},
   "outputs": [
    {
     "name": "stderr",
     "output_type": "stream",
     "text": [
      "c:\\Users\\fgonzalez\\AppData\\Local\\Programs\\Python\\Python310\\lib\\site-packages\\pandas\\io\\sql.py:762: UserWarning: pandas only support SQLAlchemy connectable(engine/connection) ordatabase string URI or sqlite3 DBAPI2 connectionother DBAPI2 objects are not tested, please consider using SQLAlchemy\n",
      "  warnings.warn(\n"
     ]
    }
   ],
   "source": [
    "import sys\n",
    "import xlsxwriter\n",
    "import pandas as pd\n",
    "import sys\n",
    "import psycopg2\n",
    "import os\n",
    "from dotenv import load_dotenv\n",
    "from datetime import date\n",
    "\n",
    "today = date.today()\n",
    "load_dotenv()\n",
    "\n",
    "#configurar la conexion a la base de datos\n",
    "DB_USERNAME = os.getenv('DB_USERNAME')\n",
    "DB_DATABASE = os.getenv('DB_DATABASE')\n",
    "DB_PASSWORD = os.getenv('DB_PASSWORD')\n",
    "DB_PORT = os.getenv('DB_PORT')\n",
    "DB_HOST=os.getenv('DB_HOST')\n",
    "\n",
    "# Conectar a DB\n",
    "cnx = mysql.connector.connect(user=DB_USERNAME,\n",
    "                              password=DB_PASSWORD,\n",
    "                              host=DB_HOST,\n",
    "                              port=DB_PORT,\n",
    "                              database=DB_DATABASE,\n",
    "                              use_pure=False)\n",
    "encuestas=pd.read_sql(\"\"\"select * from respuestas14 \"\"\",cnx)\n"
   ]
  },
  {
   "cell_type": "code",
   "execution_count": 5,
   "metadata": {},
   "outputs": [],
   "source": [
    "reactivos=['nar8', 'nar9', 'nar10', 'nar1_a', 'nar11', 'nar11a', 'nar14', 'nar14otra', 'ner20', 'ner20txt', 'ner20a', 'nar1', 'ncr1', 'ncr2', 'ncr2a', 'ncr3', 'ncr4', 'ncr4a', 'ncr5', 'ncr6', 'ncr6t', 'ncr6_a', 'ncr7a', 'ncr7b', 'ncr8', 'ncr9', 'ncr10', 'ncr11', 'ncr12_a', 'ncr15', 'ncr16', 'ncr17', 'ncr18', 'ncr19', 'ncra20', 'ncr20', 'ncr21_a', 'ncr22', 'ncr24', 'ncr24a', 'ncr24porque', 'ncr23', 'ndr17', 'ndr18', 'ndr19', 'ner1', 'ner2', 'ner1a', 'ner3', 'ner4', 'ner5', 'ner6', 'ner7', 'ner7int', 'ner7a', 'ner8', 'ner9', 'ner10', 'ner10a', 'ner11', 'ner12', 'ner13', 'ner14', 'ner15', 'ner12a', 'ner12b', 'ner16', 'ner17', 'ner18', 'ner19', 'nfr27', 'nfr28', 'nfr29', 'nfr29a', 'ngr13', 'ngr13b', 'ngr13c', 'ngr13d', 'ngr11a', 'ngr11f']"
   ]
  },
  {
   "cell_type": "code",
   "execution_count": null,
   "metadata": {},
   "outputs": [],
   "source": [
    "for i in range(len(encuestas)):\n",
    "    for j in reactivos:\n",
    "        "
   ]
  },
  {
   "cell_type": "code",
   "execution_count": 3,
   "metadata": {},
   "outputs": [
    {
     "data": {
      "text/plain": [
       "560"
      ]
     },
     "execution_count": 3,
     "metadata": {},
     "output_type": "execute_result"
    }
   ],
   "source": [
    "80*7"
   ]
  },
  {
   "cell_type": "code",
   "execution_count": null,
   "metadata": {},
   "outputs": [],
   "source": []
  }
 ],
 "metadata": {
  "kernelspec": {
   "display_name": "Python 3",
   "language": "python",
   "name": "python3"
  },
  "language_info": {
   "codemirror_mode": {
    "name": "ipython",
    "version": 3
   },
   "file_extension": ".py",
   "mimetype": "text/x-python",
   "name": "python",
   "nbconvert_exporter": "python",
   "pygments_lexer": "ipython3",
   "version": "3.10.7"
  }
 },
 "nbformat": 4,
 "nbformat_minor": 2
}
