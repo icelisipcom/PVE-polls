{
 "cells": [
  {
   "cell_type": "code",
   "execution_count": 1,
   "metadata": {},
   "outputs": [],
   "source": [
    "import sys\n",
    "import xlsxwriter\n",
    "import pandas as pd\n",
    "import sys\n",
    "import psycopg2\n",
    "import os\n",
    "from dotenv import load_dotenv\n",
    "from datetime import date\n",
    "\n",
    "today = date.today()\n",
    "load_dotenv()\n",
    "\n",
    "#configurar la conexion a la base de datos\n",
    "DB_USERNAME = os.getenv('DB_USERNAME')\n",
    "DB_DATABASE = os.getenv('DB_DATABASE')\n",
    "DB_PASSWORD = os.getenv('DB_PASSWORD')\n",
    "DB_PORT = os.getenv('DB_PORT')\n",
    "DB_HOST=os.getenv('DB_HOST')\n",
    "\n",
    "# Conectar a DB\n",
    "cnx = mysql.connector.connect(user=DB_USERNAME,\n",
    "                              password=DB_PASSWORD,\n",
    "                              host=DB_HOST,\n",
    "                              port=DB_PORT,\n",
    "                              database=DB_DATABASE,\n",
    "                              use_pure=False)\n"
   ]
  },
  {
   "cell_type": "code",
   "execution_count": 4,
   "metadata": {},
   "outputs": [],
   "source": [
    "e=pd.read_sql('select * from respuestas20 where completed=1 and aplica!=111',cnx)"
   ]
  },
  {
   "cell_type": "code",
   "execution_count": 5,
   "metadata": {},
   "outputs": [
    {
     "ename": "AttributeError",
     "evalue": "'numpy.timedelta64' object has no attribute 'days'",
     "output_type": "error",
     "traceback": [
      "\u001b[1;31m---------------------------------------------------------------------------\u001b[0m",
      "\u001b[1;31mAttributeError\u001b[0m                            Traceback (most recent call last)",
      "Cell \u001b[1;32mIn [5], line 7\u001b[0m\n\u001b[0;32m      3\u001b[0m data2 \u001b[38;5;241m=\u001b[39m e[\u001b[38;5;124m'\u001b[39m\u001b[38;5;124mupdated_at\u001b[39m\u001b[38;5;124m'\u001b[39m]\u001b[38;5;241m.\u001b[39mvalues[\u001b[38;5;241m0\u001b[39m]\n\u001b[0;32m      5\u001b[0m diff \u001b[38;5;241m=\u001b[39m data2 \u001b[38;5;241m-\u001b[39m data1\n\u001b[1;32m----> 7\u001b[0m days, seconds \u001b[38;5;241m=\u001b[39m \u001b[43mdiff\u001b[49m\u001b[38;5;241;43m.\u001b[39;49m\u001b[43mdays\u001b[49m, diff\u001b[38;5;241m.\u001b[39mseconds\n\u001b[0;32m      8\u001b[0m hours \u001b[38;5;241m=\u001b[39m days \u001b[38;5;241m*\u001b[39m \u001b[38;5;241m24\u001b[39m \u001b[38;5;241m+\u001b[39m seconds \u001b[38;5;241m/\u001b[39m\u001b[38;5;241m/\u001b[39m \u001b[38;5;241m3600\u001b[39m\n\u001b[0;32m      9\u001b[0m minutes \u001b[38;5;241m=\u001b[39m (seconds \u001b[38;5;241m%\u001b[39m \u001b[38;5;241m3600\u001b[39m) \u001b[38;5;241m/\u001b[39m\u001b[38;5;241m/\u001b[39m \u001b[38;5;241m60\u001b[39m\n",
      "\u001b[1;31mAttributeError\u001b[0m: 'numpy.timedelta64' object has no attribute 'days'"
     ]
    }
   ],
   "source": [
    "import datetime\n",
    "data1 = e['created_at'].values[0]\n",
    "data2 = e['updated_at'].values[0]\n",
    "\n",
    "diff = data2 - data1\n",
    "\n",
    "days, seconds = diff.days, diff.seconds\n",
    "hours = days * 24 + seconds // 3600\n",
    "minutes = (seconds % 3600) // 60\n",
    "seconds = seconds % 60\n",
    "\n",
    "print( hours,minutes,seconds)"
   ]
  },
  {
   "cell_type": "code",
   "execution_count": 8,
   "metadata": {},
   "outputs": [
    {
     "data": {
      "text/plain": [
       "numpy.timedelta64(3305000000000,'ns')"
      ]
     },
     "execution_count": 8,
     "metadata": {},
     "output_type": "execute_result"
    }
   ],
   "source": [
    "diff"
   ]
  },
  {
   "cell_type": "code",
   "execution_count": 9,
   "metadata": {},
   "outputs": [
    {
     "data": {
      "text/plain": [
       "numpy.datetime64('2024-02-02T20:26:57.000000000')"
      ]
     },
     "execution_count": 9,
     "metadata": {},
     "output_type": "execute_result"
    }
   ],
   "source": [
    "e['created_at'].values[0]"
   ]
  },
  {
   "cell_type": "code",
   "execution_count": 56,
   "metadata": {},
   "outputs": [
    {
     "data": {
      "text/plain": [
       "array([1], dtype=int64)"
      ]
     },
     "execution_count": 56,
     "metadata": {},
     "output_type": "execute_result"
    }
   ],
   "source": [
    "e['completed'].unique()"
   ]
  },
  {
   "cell_type": "code",
   "execution_count": 23,
   "metadata": {},
   "outputs": [
    {
     "data": {
      "text/plain": [
       "55.083333333333336"
      ]
     },
     "execution_count": 23,
     "metadata": {},
     "output_type": "execute_result"
    }
   ],
   "source": [
    "(pd.Timestamp(e['updated_at'].values[0])-pd.Timestamp(e['created_at'].values[0])).seconds/60"
   ]
  },
  {
   "cell_type": "code",
   "execution_count": 27,
   "metadata": {},
   "outputs": [],
   "source": [
    "e=e.assign(tiempo=0)"
   ]
  },
  {
   "cell_type": "code",
   "execution_count": 28,
   "metadata": {},
   "outputs": [],
   "source": [
    "for i in range(len(e)):\n",
    "    e['tiempo'].values[i]=(pd.Timestamp(e['updated_at'].values[i])-pd.Timestamp(e['created_at'].values[i])).seconds/60"
   ]
  },
  {
   "cell_type": "code",
   "execution_count": 32,
   "metadata": {},
   "outputs": [
    {
     "data": {
      "text/html": [
       "<div>\n",
       "<style scoped>\n",
       "    .dataframe tbody tr th:only-of-type {\n",
       "        vertical-align: middle;\n",
       "    }\n",
       "\n",
       "    .dataframe tbody tr th {\n",
       "        vertical-align: top;\n",
       "    }\n",
       "\n",
       "    .dataframe thead th {\n",
       "        text-align: right;\n",
       "    }\n",
       "</style>\n",
       "<table border=\"1\" class=\"dataframe\">\n",
       "  <thead>\n",
       "    <tr style=\"text-align: right;\">\n",
       "      <th></th>\n",
       "      <th>aplica</th>\n",
       "      <th>tiempo</th>\n",
       "      <th>fec_capt</th>\n",
       "      <th>created_at</th>\n",
       "      <th>updated_at</th>\n",
       "    </tr>\n",
       "  </thead>\n",
       "  <tbody>\n",
       "    <tr>\n",
       "      <th>0</th>\n",
       "      <td>22</td>\n",
       "      <td>55</td>\n",
       "      <td>2024-02-02</td>\n",
       "      <td>2024-02-02 20:26:57</td>\n",
       "      <td>2024-02-02 21:22:02</td>\n",
       "    </tr>\n",
       "    <tr>\n",
       "      <th>1</th>\n",
       "      <td>15</td>\n",
       "      <td>31</td>\n",
       "      <td>2024-02-02</td>\n",
       "      <td>2024-02-02 21:13:31</td>\n",
       "      <td>2024-02-02 21:44:54</td>\n",
       "    </tr>\n",
       "    <tr>\n",
       "      <th>2</th>\n",
       "      <td>15</td>\n",
       "      <td>20</td>\n",
       "      <td>2024-02-02</td>\n",
       "      <td>2024-02-02 22:33:19</td>\n",
       "      <td>2024-02-02 22:54:02</td>\n",
       "    </tr>\n",
       "    <tr>\n",
       "      <th>3</th>\n",
       "      <td>17</td>\n",
       "      <td>17</td>\n",
       "      <td>2024-02-02</td>\n",
       "      <td>2024-02-06 15:17:57</td>\n",
       "      <td>2024-02-06 15:35:36</td>\n",
       "    </tr>\n",
       "    <tr>\n",
       "      <th>4</th>\n",
       "      <td>22</td>\n",
       "      <td>26</td>\n",
       "      <td>2024-02-06</td>\n",
       "      <td>2024-02-06 20:37:44</td>\n",
       "      <td>2024-02-06 21:04:28</td>\n",
       "    </tr>\n",
       "    <tr>\n",
       "      <th>...</th>\n",
       "      <td>...</td>\n",
       "      <td>...</td>\n",
       "      <td>...</td>\n",
       "      <td>...</td>\n",
       "      <td>...</td>\n",
       "    </tr>\n",
       "    <tr>\n",
       "      <th>1159</th>\n",
       "      <td>12</td>\n",
       "      <td>21</td>\n",
       "      <td>2024-05-07</td>\n",
       "      <td>2024-05-07 17:37:34</td>\n",
       "      <td>2024-05-07 17:59:23</td>\n",
       "    </tr>\n",
       "    <tr>\n",
       "      <th>1160</th>\n",
       "      <td>17</td>\n",
       "      <td>21</td>\n",
       "      <td>2024-05-07</td>\n",
       "      <td>2024-05-07 17:41:37</td>\n",
       "      <td>2024-05-07 18:03:27</td>\n",
       "    </tr>\n",
       "    <tr>\n",
       "      <th>1161</th>\n",
       "      <td>17</td>\n",
       "      <td>18</td>\n",
       "      <td>2024-05-07</td>\n",
       "      <td>2024-05-07 18:23:10</td>\n",
       "      <td>2024-05-07 18:41:16</td>\n",
       "    </tr>\n",
       "    <tr>\n",
       "      <th>1162</th>\n",
       "      <td>12</td>\n",
       "      <td>20</td>\n",
       "      <td>2024-05-07</td>\n",
       "      <td>2024-05-07 18:30:04</td>\n",
       "      <td>2024-05-07 18:50:31</td>\n",
       "    </tr>\n",
       "    <tr>\n",
       "      <th>1163</th>\n",
       "      <td>17</td>\n",
       "      <td>13</td>\n",
       "      <td>2024-05-07</td>\n",
       "      <td>2024-05-07 18:58:01</td>\n",
       "      <td>2024-05-07 19:11:27</td>\n",
       "    </tr>\n",
       "  </tbody>\n",
       "</table>\n",
       "<p>1164 rows × 5 columns</p>\n",
       "</div>"
      ],
      "text/plain": [
       "     aplica  tiempo   fec_capt          created_at          updated_at\n",
       "0        22      55 2024-02-02 2024-02-02 20:26:57 2024-02-02 21:22:02\n",
       "1        15      31 2024-02-02 2024-02-02 21:13:31 2024-02-02 21:44:54\n",
       "2        15      20 2024-02-02 2024-02-02 22:33:19 2024-02-02 22:54:02\n",
       "3        17      17 2024-02-02 2024-02-06 15:17:57 2024-02-06 15:35:36\n",
       "4        22      26 2024-02-06 2024-02-06 20:37:44 2024-02-06 21:04:28\n",
       "...     ...     ...        ...                 ...                 ...\n",
       "1159     12      21 2024-05-07 2024-05-07 17:37:34 2024-05-07 17:59:23\n",
       "1160     17      21 2024-05-07 2024-05-07 17:41:37 2024-05-07 18:03:27\n",
       "1161     17      18 2024-05-07 2024-05-07 18:23:10 2024-05-07 18:41:16\n",
       "1162     12      20 2024-05-07 2024-05-07 18:30:04 2024-05-07 18:50:31\n",
       "1163     17      13 2024-05-07 2024-05-07 18:58:01 2024-05-07 19:11:27\n",
       "\n",
       "[1164 rows x 5 columns]"
      ]
     },
     "execution_count": 32,
     "metadata": {},
     "output_type": "execute_result"
    }
   ],
   "source": [
    "e[['aplica','tiempo','fec_capt','created_at','updated_at']]"
   ]
  },
  {
   "cell_type": "code",
   "execution_count": 24,
   "metadata": {},
   "outputs": [],
   "source": [
    "suma=0\n",
    "for i in range(len(e)):\n",
    "    suma=suma+(pd.Timestamp(e['updated_at'].values[i])-pd.Timestamp(e['created_at'].values[i])).seconds/60"
   ]
  },
  {
   "cell_type": "code",
   "execution_count": 25,
   "metadata": {},
   "outputs": [
    {
     "data": {
      "text/plain": [
       "34.92595933562433"
      ]
     },
     "execution_count": 25,
     "metadata": {},
     "output_type": "execute_result"
    }
   ],
   "source": [
    "suma/len(e)"
   ]
  },
  {
   "cell_type": "code",
   "execution_count": 63,
   "metadata": {},
   "outputs": [
    {
     "name": "stdout",
     "output_type": "stream",
     "text": [
      "ENCUESTADOR:  22 media (minutos por encuesta) 29.354430379746834\n",
      " Tiempo maximo: 8hrs 17min\n",
      "    aplica     cuenta   fec_capt          created_at          updated_at\n",
      "475     22  312355120 2024-03-13 2024-03-13 10:17:48 2024-03-13 18:35:21\n",
      " Teimpo minimo 9min\n",
      "    registro aplica     cuenta   fec_capt          created_at  \\\n",
      "33       100     22  416030367 2024-02-12 2024-02-12 18:07:33   \n",
      "\n",
      "            updated_at  \n",
      "33 2024-02-13 18:16:48  \n",
      "\n",
      "ENCUESTADOR:  15 media (minutos por encuesta) 16.934272300469484\n",
      " Tiempo maximo: 4hrs 29min\n",
      "    aplica     cuenta   fec_capt          created_at          updated_at\n",
      "565     15  416118539 2024-03-20 2024-03-20 13:02:36 2024-03-20 17:32:33\n",
      " Teimpo minimo 8min\n",
      "     registro aplica     cuenta   fec_capt          created_at  \\\n",
      "387       478     15  306033461 2024-03-06 2024-03-06 17:26:39   \n",
      "856       987     15  314250124 2024-04-16 2024-04-16 16:01:56   \n",
      "\n",
      "             updated_at  \n",
      "387 2024-03-06 17:35:30  \n",
      "856 2024-04-16 16:10:49  \n",
      "\n",
      "ENCUESTADOR:  17 media (minutos por encuesta) 27.623529411764707\n",
      " Tiempo maximo: 19hrs 48min\n",
      "    aplica     cuenta   fec_capt          created_at          updated_at\n",
      "714     17  314199737 2024-04-08 2024-04-08 13:17:34 2024-04-09 09:06:09\n",
      " Teimpo minimo 12min\n",
      "     registro aplica     cuenta   fec_capt          created_at  \\\n",
      "86        156     17  311307755 2024-02-16 2024-02-16 09:34:38   \n",
      "566       663     17  314199098 2024-03-20 2024-03-20 13:12:35   \n",
      "\n",
      "             updated_at  \n",
      "86  2024-02-16 09:47:06  \n",
      "566 2024-03-20 13:24:38  \n",
      "\n",
      "ENCUESTADOR:  12 media (minutos por encuesta) 38.14074074074074\n",
      " Tiempo maximo: 22hrs 55min\n",
      "    aplica     cuenta   fec_capt          created_at          updated_at\n",
      "516     12  313136728 2024-03-15 2024-03-15 12:00:11 2024-04-01 10:56:08\n",
      " Teimpo minimo 10min\n",
      "     registro aplica     cuenta   fec_capt          created_at  \\\n",
      "711       825     12  417112987 2024-04-08 2024-04-08 12:50:52   \n",
      "\n",
      "             updated_at  \n",
      "711 2024-04-08 13:01:38  \n",
      "\n",
      "ENCUESTADOR:  104 media (minutos por encuesta) 380.0\n",
      " Tiempo maximo: 17hrs 12min\n",
      "   aplica     cuenta   fec_capt          created_at          updated_at\n",
      "19    104  313157075 2024-02-08 2024-02-08 17:43:06 2024-02-09 10:55:13\n",
      " Teimpo minimo 41min\n",
      "     registro aplica     cuenta   fec_capt          created_at  \\\n",
      "865       997    104  314209469 2024-04-17 2024-04-17 10:57:51   \n",
      "\n",
      "             updated_at  \n",
      "865 2024-04-17 11:39:21  \n",
      "\n",
      "ENCUESTADOR:  23 media (minutos por encuesta) 59.215053763440864\n",
      " Tiempo maximo: 22hrs 41min\n",
      "    aplica     cuenta   fec_capt          created_at          updated_at\n",
      "466     23  314210531 2024-03-12 2024-03-12 17:18:24 2024-03-13 16:00:18\n",
      " Teimpo minimo 13min\n",
      "     registro aplica     cuenta   fec_capt          created_at  \\\n",
      "969      1106     23  313351905 2024-04-23 2024-04-23 15:21:57   \n",
      "\n",
      "             updated_at  \n",
      "969 2024-04-23 15:35:15  \n",
      "\n"
     ]
    }
   ],
   "source": [
    "import math \n",
    "def mformat(x):\n",
    "    if(x>60):\n",
    "        return(str(math.floor(x/60))+'hrs '+str(x%60)+'min')\n",
    "    else:\n",
    "        return(str(x)+'min')\n",
    "for i in e['aplica'].unique():\n",
    "    suma=0\n",
    "    e_i=e.loc[e['aplica']==i]\n",
    "    print('ENCUESTADOR: ',i,'media (minutos por encuesta)',e_i['tiempo'].mean())\n",
    "    print('','Tiempo maximo:',mformat(e_i['tiempo'].max()))\n",
    "    encuesta=e_i.loc[e_i['tiempo']==e_i['tiempo'].max()]\n",
    "    print(encuesta[['aplica','cuenta','fec_capt','created_at','updated_at']])\n",
    "    print('','Teimpo minimo',mformat(e_i['tiempo'].min()))\n",
    "    \n",
    "    encuesta=e_i.loc[e_i['tiempo']==e_i['tiempo'].min()]\n",
    "    print(encuesta[['registro','aplica','cuenta','fec_capt','created_at','updated_at']])\n",
    "    \n",
    "    print()\n",
    "    "
   ]
  },
  {
   "cell_type": "code",
   "execution_count": 44,
   "metadata": {},
   "outputs": [
    {
     "data": {
      "text/html": [
       "<div>\n",
       "<style scoped>\n",
       "    .dataframe tbody tr th:only-of-type {\n",
       "        vertical-align: middle;\n",
       "    }\n",
       "\n",
       "    .dataframe tbody tr th {\n",
       "        vertical-align: top;\n",
       "    }\n",
       "\n",
       "    .dataframe thead th {\n",
       "        text-align: right;\n",
       "    }\n",
       "</style>\n",
       "<table border=\"1\" class=\"dataframe\">\n",
       "  <thead>\n",
       "    <tr style=\"text-align: right;\">\n",
       "      <th></th>\n",
       "      <th>cuenta</th>\n",
       "      <th>fec_capt</th>\n",
       "      <th>tiempo</th>\n",
       "    </tr>\n",
       "  </thead>\n",
       "  <tbody>\n",
       "    <tr>\n",
       "      <th>387</th>\n",
       "      <td>306033461</td>\n",
       "      <td>2024-03-06</td>\n",
       "      <td>8</td>\n",
       "    </tr>\n",
       "    <tr>\n",
       "      <th>856</th>\n",
       "      <td>314250124</td>\n",
       "      <td>2024-04-16</td>\n",
       "      <td>8</td>\n",
       "    </tr>\n",
       "  </tbody>\n",
       "</table>\n",
       "</div>"
      ],
      "text/plain": [
       "        cuenta   fec_capt  tiempo\n",
       "387  306033461 2024-03-06       8\n",
       "856  314250124 2024-04-16       8"
      ]
     },
     "execution_count": 44,
     "metadata": {},
     "output_type": "execute_result"
    }
   ],
   "source": [
    "e.loc[e['tiempo']==e['tiempo'].min(),['cuenta','fec_capt','tiempo']]"
   ]
  },
  {
   "cell_type": "code",
   "execution_count": 51,
   "metadata": {},
   "outputs": [
    {
     "data": {
      "text/plain": [
       "Timestamp('2024-02-02 14:26:57')"
      ]
     },
     "execution_count": 51,
     "metadata": {},
     "output_type": "execute_result"
    }
   ],
   "source": [
    "from datetime import datetime, timedelta\n",
    "pd.to_datetime(e['created_at'].values[0])+timedelta(hours=-6)"
   ]
  },
  {
   "cell_type": "code",
   "execution_count": 50,
   "metadata": {},
   "outputs": [
    {
     "data": {
      "text/plain": [
       "numpy.datetime64('2024-02-02T20:26:57.000000000')"
      ]
     },
     "execution_count": 50,
     "metadata": {},
     "output_type": "execute_result"
    }
   ],
   "source": [
    "e['created_at'].values[0]"
   ]
  },
  {
   "cell_type": "code",
   "execution_count": 55,
   "metadata": {},
   "outputs": [],
   "source": [
    "e['created_at']=pd.to_datetime(e['created_at']+timedelta(hours=-6))\n",
    "e['updated_at']=pd.to_datetime(e['updated_at']+timedelta(hours=-6))"
   ]
  },
  {
   "cell_type": "code",
   "execution_count": 69,
   "metadata": {},
   "outputs": [
    {
     "data": {
      "text/html": [
       "<div>\n",
       "<style scoped>\n",
       "    .dataframe tbody tr th:only-of-type {\n",
       "        vertical-align: middle;\n",
       "    }\n",
       "\n",
       "    .dataframe tbody tr th {\n",
       "        vertical-align: top;\n",
       "    }\n",
       "\n",
       "    .dataframe thead th {\n",
       "        text-align: right;\n",
       "    }\n",
       "</style>\n",
       "<table border=\"1\" class=\"dataframe\">\n",
       "  <thead>\n",
       "    <tr style=\"text-align: right;\">\n",
       "      <th></th>\n",
       "      <th>registro</th>\n",
       "      <th>cuenta</th>\n",
       "      <th>aplica</th>\n",
       "      <th>fec_capt</th>\n",
       "      <th>tiempo</th>\n",
       "    </tr>\n",
       "  </thead>\n",
       "  <tbody>\n",
       "    <tr>\n",
       "      <th>33</th>\n",
       "      <td>100</td>\n",
       "      <td>416030367</td>\n",
       "      <td>22</td>\n",
       "      <td>2024-02-12</td>\n",
       "      <td>9</td>\n",
       "    </tr>\n",
       "    <tr>\n",
       "      <th>58</th>\n",
       "      <td>127</td>\n",
       "      <td>308160417</td>\n",
       "      <td>15</td>\n",
       "      <td>2024-02-14</td>\n",
       "      <td>9</td>\n",
       "    </tr>\n",
       "    <tr>\n",
       "      <th>387</th>\n",
       "      <td>478</td>\n",
       "      <td>306033461</td>\n",
       "      <td>15</td>\n",
       "      <td>2024-03-06</td>\n",
       "      <td>8</td>\n",
       "    </tr>\n",
       "    <tr>\n",
       "      <th>424</th>\n",
       "      <td>516</td>\n",
       "      <td>417072988</td>\n",
       "      <td>15</td>\n",
       "      <td>2024-03-08</td>\n",
       "      <td>10</td>\n",
       "    </tr>\n",
       "    <tr>\n",
       "      <th>505</th>\n",
       "      <td>600</td>\n",
       "      <td>415035596</td>\n",
       "      <td>15</td>\n",
       "      <td>2024-03-14</td>\n",
       "      <td>10</td>\n",
       "    </tr>\n",
       "    <tr>\n",
       "      <th>542</th>\n",
       "      <td>639</td>\n",
       "      <td>411044992</td>\n",
       "      <td>15</td>\n",
       "      <td>2024-03-19</td>\n",
       "      <td>10</td>\n",
       "    </tr>\n",
       "    <tr>\n",
       "      <th>585</th>\n",
       "      <td>683</td>\n",
       "      <td>312152613</td>\n",
       "      <td>15</td>\n",
       "      <td>2024-03-21</td>\n",
       "      <td>10</td>\n",
       "    </tr>\n",
       "    <tr>\n",
       "      <th>627</th>\n",
       "      <td>732</td>\n",
       "      <td>304220726</td>\n",
       "      <td>15</td>\n",
       "      <td>2024-04-02</td>\n",
       "      <td>10</td>\n",
       "    </tr>\n",
       "    <tr>\n",
       "      <th>711</th>\n",
       "      <td>825</td>\n",
       "      <td>417112987</td>\n",
       "      <td>12</td>\n",
       "      <td>2024-04-08</td>\n",
       "      <td>10</td>\n",
       "    </tr>\n",
       "    <tr>\n",
       "      <th>717</th>\n",
       "      <td>833</td>\n",
       "      <td>87381762</td>\n",
       "      <td>15</td>\n",
       "      <td>2024-04-08</td>\n",
       "      <td>10</td>\n",
       "    </tr>\n",
       "    <tr>\n",
       "      <th>721</th>\n",
       "      <td>838</td>\n",
       "      <td>314185190</td>\n",
       "      <td>15</td>\n",
       "      <td>2024-04-08</td>\n",
       "      <td>10</td>\n",
       "    </tr>\n",
       "    <tr>\n",
       "      <th>788</th>\n",
       "      <td>912</td>\n",
       "      <td>415066949</td>\n",
       "      <td>15</td>\n",
       "      <td>2024-04-11</td>\n",
       "      <td>10</td>\n",
       "    </tr>\n",
       "    <tr>\n",
       "      <th>856</th>\n",
       "      <td>987</td>\n",
       "      <td>314250124</td>\n",
       "      <td>15</td>\n",
       "      <td>2024-04-16</td>\n",
       "      <td>8</td>\n",
       "    </tr>\n",
       "    <tr>\n",
       "      <th>899</th>\n",
       "      <td>1032</td>\n",
       "      <td>311054703</td>\n",
       "      <td>15</td>\n",
       "      <td>2024-04-18</td>\n",
       "      <td>9</td>\n",
       "    </tr>\n",
       "    <tr>\n",
       "      <th>1109</th>\n",
       "      <td>1262</td>\n",
       "      <td>312048794</td>\n",
       "      <td>22</td>\n",
       "      <td>2024-05-02</td>\n",
       "      <td>10</td>\n",
       "    </tr>\n",
       "  </tbody>\n",
       "</table>\n",
       "</div>"
      ],
      "text/plain": [
       "      registro     cuenta aplica   fec_capt  tiempo\n",
       "33         100  416030367     22 2024-02-12       9\n",
       "58         127  308160417     15 2024-02-14       9\n",
       "387        478  306033461     15 2024-03-06       8\n",
       "424        516  417072988     15 2024-03-08      10\n",
       "505        600  415035596     15 2024-03-14      10\n",
       "542        639  411044992     15 2024-03-19      10\n",
       "585        683  312152613     15 2024-03-21      10\n",
       "627        732  304220726     15 2024-04-02      10\n",
       "711        825  417112987     12 2024-04-08      10\n",
       "717        833   87381762     15 2024-04-08      10\n",
       "721        838  314185190     15 2024-04-08      10\n",
       "788        912  415066949     15 2024-04-11      10\n",
       "856        987  314250124     15 2024-04-16       8\n",
       "899       1032  311054703     15 2024-04-18       9\n",
       "1109      1262  312048794     22 2024-05-02      10"
      ]
     },
     "execution_count": 69,
     "metadata": {},
     "output_type": "execute_result"
    }
   ],
   "source": [
    "e[e['tiempo']<=10][['registro','cuenta','aplica','fec_capt','tiempo']]"
   ]
  },
  {
   "cell_type": "code",
   "execution_count": null,
   "metadata": {},
   "outputs": [],
   "source": []
  }
 ],
 "metadata": {
  "kernelspec": {
   "display_name": "Python 3",
   "language": "python",
   "name": "python3"
  },
  "language_info": {
   "codemirror_mode": {
    "name": "ipython",
    "version": 3
   },
   "file_extension": ".py",
   "mimetype": "text/x-python",
   "name": "python",
   "nbconvert_exporter": "python",
   "pygments_lexer": "ipython3",
   "version": "3.10.7"
  }
 },
 "nbformat": 4,
 "nbformat_minor": 2
}
